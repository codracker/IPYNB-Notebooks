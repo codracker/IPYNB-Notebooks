{
 "cells": [
  {
   "cell_type": "markdown",
   "metadata": {
    "deletable": true,
    "editable": true
   },
   "source": [
    "# Naive Bayes (the easy way)"
   ]
  },
  {
   "cell_type": "markdown",
   "metadata": {
    "deletable": true,
    "editable": true
   },
   "source": [
    "We'll cheat by using sklearn.naive_bayes to train a spam classifier! Most of the code is just loading our training data into a pandas DataFrame that we can play with:"
   ]
  },
  {
   "cell_type": "code",
   "execution_count": 19,
   "metadata": {
    "collapsed": false,
    "deletable": true,
    "editable": true
   },
   "outputs": [
    {
     "data": {
      "text/plain": [
       "3000"
      ]
     },
     "execution_count": 19,
     "metadata": {},
     "output_type": "execute_result"
    }
   ],
   "source": [
    "import os\n",
    "import io\n",
    "import numpy\n",
    "from pandas import DataFrame\n",
    "from sklearn.feature_extraction.text import CountVectorizer\n",
    "from sklearn.naive_bayes import MultinomialNB\n",
    "\n",
    "def readFiles(path):\n",
    "    for root, dirnames, filenames in os.walk(path):\n",
    "        for filename in filenames:\n",
    "            path = os.path.join(root, filename)\n",
    "\n",
    "            inBody = False\n",
    "            lines = []\n",
    "            f = io.open(path, 'r', encoding='latin1')\n",
    "            for line in f:\n",
    "                if inBody:\n",
    "                    lines.append(line)\n",
    "                elif line == '\\n':\n",
    "                    inBody = True\n",
    "            f.close()\n",
    "            message = '\\n'.join(lines)\n",
    "            yield path, message\n",
    "\n",
    "\n",
    "def dataFrameFromDirectory(path, classification):\n",
    "    rows = []\n",
    "    index = []\n",
    "    for filename, message in readFiles(path):\n",
    "        rows.append({'message': message, 'class': classification})\n",
    "        index.append(filename)\n",
    "\n",
    "    return DataFrame(rows, index=index)\n",
    "\n",
    "data = DataFrame({'message': [], 'class': []})\n",
    "#C:\\Users\\Vijay\\Desktop\\OPJ Workshop\\Day3\\emails\\ham\n",
    "data = data.append(dataFrameFromDirectory('C:\\\\Users\\\\Vijay\\\\Desktop\\\\OPJ Workshop\\\\Day3\\\\emails\\\\spam', 'spam'))\n",
    "\n",
    "#data = data.append(dataFrameFromDirectory('C:/Users/Vijay/Desktop/workshop flow/Day 2/Day2_IPYNB_Files/emails/spam', 'spam'))\n",
    "#data = data.append(dataFrameFromDirectory('C:/Users/Vijay/Desktop/workshop flow/Day 2/Day2_IPYNB_Files/emails/ham', 'ham'))\n",
    "data = data.append(dataFrameFromDirectory('C:\\\\Users\\\\Vijay\\\\Desktop\\\\OPJ Workshop\\\\Day3\\\\emails\\\\ham', 'ham'))\n",
    "\n",
    "length= len(data)\n",
    "length"
   ]
  },
  {
   "cell_type": "markdown",
   "metadata": {
    "deletable": true,
    "editable": true
   },
   "source": [
    "Let's have a look at that DataFrame:"
   ]
  },
  {
   "cell_type": "code",
   "execution_count": 11,
   "metadata": {
    "collapsed": false,
    "deletable": true,
    "editable": true,
    "scrolled": true
   },
   "outputs": [
    {
     "data": {
      "text/html": [
       "<div>\n",
       "<style>\n",
       "    .dataframe thead tr:only-child th {\n",
       "        text-align: right;\n",
       "    }\n",
       "\n",
       "    .dataframe thead th {\n",
       "        text-align: left;\n",
       "    }\n",
       "\n",
       "    .dataframe tbody tr th {\n",
       "        vertical-align: top;\n",
       "    }\n",
       "</style>\n",
       "<table border=\"1\" class=\"dataframe\">\n",
       "  <thead>\n",
       "    <tr style=\"text-align: right;\">\n",
       "      <th></th>\n",
       "      <th>class</th>\n",
       "      <th>message</th>\n",
       "    </tr>\n",
       "  </thead>\n",
       "  <tbody>\n",
       "    <tr>\n",
       "      <th>C:\\Users\\Vijay\\Desktop\\OPJ Workshop\\Day3\\emails\\ham\\02471.18281d43dc0775e915267c2ea5170f1f</th>\n",
       "      <td>ham</td>\n",
       "      <td>This is possible, however using SA as a block ...</td>\n",
       "    </tr>\n",
       "    <tr>\n",
       "      <th>C:\\Users\\Vijay\\Desktop\\OPJ Workshop\\Day3\\emails\\ham\\02472.5c879dd55c3d4171e1787e8529bbd7e1</th>\n",
       "      <td>ham</td>\n",
       "      <td>\\n\\n--- Martin Adamson &lt;martin@srv0.ems.ed.ac....</td>\n",
       "    </tr>\n",
       "    <tr>\n",
       "      <th>C:\\Users\\Vijay\\Desktop\\OPJ Workshop\\Day3\\emails\\ham\\02473.207afa13ad7d745dfd1344f84531ac16</th>\n",
       "      <td>ham</td>\n",
       "      <td>----- Original Message -----\\n\\nFrom: \"Tim Cha...</td>\n",
       "    </tr>\n",
       "    <tr>\n",
       "      <th>C:\\Users\\Vijay\\Desktop\\OPJ Workshop\\Day3\\emails\\ham\\02474.c76ffef81a2529389e6c3bbb172184d7</th>\n",
       "      <td>ham</td>\n",
       "      <td>\\n\\n&gt; Mr Tim Chapman, freelance gentleman of l...</td>\n",
       "    </tr>\n",
       "    <tr>\n",
       "      <th>C:\\Users\\Vijay\\Desktop\\OPJ Workshop\\Day3\\emails\\ham\\02475.9277ee243e3f51fa53ed6be55798d360</th>\n",
       "      <td>ham</td>\n",
       "      <td>Smith, Graham - Computing Technician wrote:\\n\\...</td>\n",
       "    </tr>\n",
       "    <tr>\n",
       "      <th>C:\\Users\\Vijay\\Desktop\\OPJ Workshop\\Day3\\emails\\ham\\02476.de1d459426662492dd1235046b504c3d</th>\n",
       "      <td>ham</td>\n",
       "      <td>Geege wrote a strange story:\\n\\n&gt;I know a guy ...</td>\n",
       "    </tr>\n",
       "    <tr>\n",
       "      <th>C:\\Users\\Vijay\\Desktop\\OPJ Workshop\\Day3\\emails\\ham\\02477.07b2069e9827cfd6f97d07eea2913d57</th>\n",
       "      <td>ham</td>\n",
       "      <td>\\n\\n[Paul Moore]\\n\\n&gt;    but let's walk before...</td>\n",
       "    </tr>\n",
       "    <tr>\n",
       "      <th>C:\\Users\\Vijay\\Desktop\\OPJ Workshop\\Day3\\emails\\ham\\02478.40723f38488bddaf5a24ef2a91679c75</th>\n",
       "      <td>ham</td>\n",
       "      <td>On Mon, Nov 25, 2002 at 06:54:49PM +0000, Phil...</td>\n",
       "    </tr>\n",
       "    <tr>\n",
       "      <th>C:\\Users\\Vijay\\Desktop\\OPJ Workshop\\Day3\\emails\\ham\\02479.14365bcad3a60fcf24c5c1813f6291fb</th>\n",
       "      <td>ham</td>\n",
       "      <td>\\n\\nI don't know how one can expect better and...</td>\n",
       "    </tr>\n",
       "    <tr>\n",
       "      <th>C:\\Users\\Vijay\\Desktop\\OPJ Workshop\\Day3\\emails\\ham\\02480.72714df60c9be29d6f7985c777cbfc13</th>\n",
       "      <td>ham</td>\n",
       "      <td>No, you need to learn how declarations work in...</td>\n",
       "    </tr>\n",
       "    <tr>\n",
       "      <th>C:\\Users\\Vijay\\Desktop\\OPJ Workshop\\Day3\\emails\\ham\\02481.176b368fe4b90682f33647d65a8b97a3</th>\n",
       "      <td>ham</td>\n",
       "      <td>\\n\\n    Richie&gt; As I understand it, post-1.8x ...</td>\n",
       "    </tr>\n",
       "    <tr>\n",
       "      <th>C:\\Users\\Vijay\\Desktop\\OPJ Workshop\\Day3\\emails\\ham\\02482.35c166ec6a85e108ad693ea43329762f</th>\n",
       "      <td>ham</td>\n",
       "      <td>\\n\\n    Paul&gt; I suspect the best answer is to ...</td>\n",
       "    </tr>\n",
       "    <tr>\n",
       "      <th>C:\\Users\\Vijay\\Desktop\\OPJ Workshop\\Day3\\emails\\ham\\02483.ab1bee02c10ddecc0e86c39eaebc2996</th>\n",
       "      <td>ham</td>\n",
       "      <td>The Times\\n\\n\\n\\n \\n\\n December 04, 2002 \\n\\n ...</td>\n",
       "    </tr>\n",
       "    <tr>\n",
       "      <th>C:\\Users\\Vijay\\Desktop\\OPJ Workshop\\Day3\\emails\\ham\\02484.32a0bca2600788be144b93cae341efbf</th>\n",
       "      <td>ham</td>\n",
       "      <td>I have to say I was surprised about Jacko dang...</td>\n",
       "    </tr>\n",
       "    <tr>\n",
       "      <th>C:\\Users\\Vijay\\Desktop\\OPJ Workshop\\Day3\\emails\\ham\\02485.ba9aebbdbec0d9fecec595eeebe5db87</th>\n",
       "      <td>ham</td>\n",
       "      <td>Now then I recently read a novel about exactly...</td>\n",
       "    </tr>\n",
       "    <tr>\n",
       "      <th>C:\\Users\\Vijay\\Desktop\\OPJ Workshop\\Day3\\emails\\ham\\02486.bdf90e871b673fd14f47f3fe36622742</th>\n",
       "      <td>ham</td>\n",
       "      <td>What the hell is it with these mini remote con...</td>\n",
       "    </tr>\n",
       "    <tr>\n",
       "      <th>C:\\Users\\Vijay\\Desktop\\OPJ Workshop\\Day3\\emails\\ham\\02487.c2e725d509201dc30debb7bd94d07f5e</th>\n",
       "      <td>ham</td>\n",
       "      <td>here, for your enjoyment, is a little somethin...</td>\n",
       "    </tr>\n",
       "    <tr>\n",
       "      <th>C:\\Users\\Vijay\\Desktop\\OPJ Workshop\\Day3\\emails\\ham\\02488.68fed64ff8169f1505b74080bb7b6158</th>\n",
       "      <td>ham</td>\n",
       "      <td>Sean O'Donnell wrote:\\n\\n&gt; Doesnt answer your ...</td>\n",
       "    </tr>\n",
       "    <tr>\n",
       "      <th>C:\\Users\\Vijay\\Desktop\\OPJ Workshop\\Day3\\emails\\ham\\02489.85c20a6f9d75714d9f44398baeddd416</th>\n",
       "      <td>ham</td>\n",
       "      <td>Joe McNally writes:\\n\\n\\n\\n&gt; What the hell is ...</td>\n",
       "    </tr>\n",
       "    <tr>\n",
       "      <th>C:\\Users\\Vijay\\Desktop\\OPJ Workshop\\Day3\\emails\\ham\\02490.7be0f683db6994ddd8445cdcc2eb5042</th>\n",
       "      <td>ham</td>\n",
       "      <td>http://news.bbc.co.uk/1/hi/world/europe/254182...</td>\n",
       "    </tr>\n",
       "    <tr>\n",
       "      <th>C:\\Users\\Vijay\\Desktop\\OPJ Workshop\\Day3\\emails\\ham\\02491.c26245be2a5096fa86647d594561c511</th>\n",
       "      <td>ham</td>\n",
       "      <td>Hi all.\\n\\nDoes anyone know how to set up dual...</td>\n",
       "    </tr>\n",
       "    <tr>\n",
       "      <th>C:\\Users\\Vijay\\Desktop\\OPJ Workshop\\Day3\\emails\\ham\\02492.6aede44f654a1bbc60c95c7dd770e624</th>\n",
       "      <td>ham</td>\n",
       "      <td>Carlos Luna wrote:\\n\\n\\n\\n&gt;Hi all.\\n\\n&gt;Does an...</td>\n",
       "    </tr>\n",
       "    <tr>\n",
       "      <th>C:\\Users\\Vijay\\Desktop\\OPJ Workshop\\Day3\\emails\\ham\\02493.f9f2870094430b7db8b0c1052b302cf1</th>\n",
       "      <td>ham</td>\n",
       "      <td>Hi all\\n\\n\\n\\n\\n\\nI have a prob when trying to...</td>\n",
       "    </tr>\n",
       "    <tr>\n",
       "      <th>C:\\Users\\Vijay\\Desktop\\OPJ Workshop\\Day3\\emails\\ham\\02494.a14f2d3a9bef3f59aa419b03aee8f871</th>\n",
       "      <td>ham</td>\n",
       "      <td>Tim Chapman writes:\\n\\n\\n\\n&gt; http://news.bbc.c...</td>\n",
       "    </tr>\n",
       "    <tr>\n",
       "      <th>C:\\Users\\Vijay\\Desktop\\OPJ Workshop\\Day3\\emails\\ham\\02495.5064946e77b3046873da91fc47656465</th>\n",
       "      <td>ham</td>\n",
       "      <td>&gt; I had the same problem when installing Win o...</td>\n",
       "    </tr>\n",
       "    <tr>\n",
       "      <th>C:\\Users\\Vijay\\Desktop\\OPJ Workshop\\Day3\\emails\\ham\\02496.aae0c81581895acfe65323f344340856</th>\n",
       "      <td>ham</td>\n",
       "      <td>Man killed 'trying to surf' on Tube train \\n\\n...</td>\n",
       "    </tr>\n",
       "    <tr>\n",
       "      <th>C:\\Users\\Vijay\\Desktop\\OPJ Workshop\\Day3\\emails\\ham\\02497.60497db0a06c2132ec2374b2898084d3</th>\n",
       "      <td>ham</td>\n",
       "      <td>Hi Gianni,\\n\\n\\n\\nA very good resource for thi...</td>\n",
       "    </tr>\n",
       "    <tr>\n",
       "      <th>C:\\Users\\Vijay\\Desktop\\OPJ Workshop\\Day3\\emails\\ham\\02498.09835f512f156da210efb99fcc523e21</th>\n",
       "      <td>ham</td>\n",
       "      <td>Gianni Ponzi wrote:\\n\\n&gt; I have a prob when tr...</td>\n",
       "    </tr>\n",
       "    <tr>\n",
       "      <th>C:\\Users\\Vijay\\Desktop\\OPJ Workshop\\Day3\\emails\\ham\\02499.b4af165650f138b10f9941f6cc5bce3c</th>\n",
       "      <td>ham</td>\n",
       "      <td>Neale Pickett &lt;neale@woozle.org&gt; writes:\\n\\n\\n...</td>\n",
       "    </tr>\n",
       "    <tr>\n",
       "      <th>C:\\Users\\Vijay\\Desktop\\OPJ Workshop\\Day3\\emails\\ham\\02500.05b3496ce7bca306bed0805425ec8621</th>\n",
       "      <td>ham</td>\n",
       "      <td>\\n\\nHi,\\n\\n\\n\\nI think you need to give us a l...</td>\n",
       "    </tr>\n",
       "  </tbody>\n",
       "</table>\n",
       "</div>"
      ],
      "text/plain": [
       "                                                   class  \\\n",
       "C:\\Users\\Vijay\\Desktop\\OPJ Workshop\\Day3\\emails...   ham   \n",
       "C:\\Users\\Vijay\\Desktop\\OPJ Workshop\\Day3\\emails...   ham   \n",
       "C:\\Users\\Vijay\\Desktop\\OPJ Workshop\\Day3\\emails...   ham   \n",
       "C:\\Users\\Vijay\\Desktop\\OPJ Workshop\\Day3\\emails...   ham   \n",
       "C:\\Users\\Vijay\\Desktop\\OPJ Workshop\\Day3\\emails...   ham   \n",
       "C:\\Users\\Vijay\\Desktop\\OPJ Workshop\\Day3\\emails...   ham   \n",
       "C:\\Users\\Vijay\\Desktop\\OPJ Workshop\\Day3\\emails...   ham   \n",
       "C:\\Users\\Vijay\\Desktop\\OPJ Workshop\\Day3\\emails...   ham   \n",
       "C:\\Users\\Vijay\\Desktop\\OPJ Workshop\\Day3\\emails...   ham   \n",
       "C:\\Users\\Vijay\\Desktop\\OPJ Workshop\\Day3\\emails...   ham   \n",
       "C:\\Users\\Vijay\\Desktop\\OPJ Workshop\\Day3\\emails...   ham   \n",
       "C:\\Users\\Vijay\\Desktop\\OPJ Workshop\\Day3\\emails...   ham   \n",
       "C:\\Users\\Vijay\\Desktop\\OPJ Workshop\\Day3\\emails...   ham   \n",
       "C:\\Users\\Vijay\\Desktop\\OPJ Workshop\\Day3\\emails...   ham   \n",
       "C:\\Users\\Vijay\\Desktop\\OPJ Workshop\\Day3\\emails...   ham   \n",
       "C:\\Users\\Vijay\\Desktop\\OPJ Workshop\\Day3\\emails...   ham   \n",
       "C:\\Users\\Vijay\\Desktop\\OPJ Workshop\\Day3\\emails...   ham   \n",
       "C:\\Users\\Vijay\\Desktop\\OPJ Workshop\\Day3\\emails...   ham   \n",
       "C:\\Users\\Vijay\\Desktop\\OPJ Workshop\\Day3\\emails...   ham   \n",
       "C:\\Users\\Vijay\\Desktop\\OPJ Workshop\\Day3\\emails...   ham   \n",
       "C:\\Users\\Vijay\\Desktop\\OPJ Workshop\\Day3\\emails...   ham   \n",
       "C:\\Users\\Vijay\\Desktop\\OPJ Workshop\\Day3\\emails...   ham   \n",
       "C:\\Users\\Vijay\\Desktop\\OPJ Workshop\\Day3\\emails...   ham   \n",
       "C:\\Users\\Vijay\\Desktop\\OPJ Workshop\\Day3\\emails...   ham   \n",
       "C:\\Users\\Vijay\\Desktop\\OPJ Workshop\\Day3\\emails...   ham   \n",
       "C:\\Users\\Vijay\\Desktop\\OPJ Workshop\\Day3\\emails...   ham   \n",
       "C:\\Users\\Vijay\\Desktop\\OPJ Workshop\\Day3\\emails...   ham   \n",
       "C:\\Users\\Vijay\\Desktop\\OPJ Workshop\\Day3\\emails...   ham   \n",
       "C:\\Users\\Vijay\\Desktop\\OPJ Workshop\\Day3\\emails...   ham   \n",
       "C:\\Users\\Vijay\\Desktop\\OPJ Workshop\\Day3\\emails...   ham   \n",
       "\n",
       "                                                                                              message  \n",
       "C:\\Users\\Vijay\\Desktop\\OPJ Workshop\\Day3\\emails...  This is possible, however using SA as a block ...  \n",
       "C:\\Users\\Vijay\\Desktop\\OPJ Workshop\\Day3\\emails...  \\n\\n--- Martin Adamson <martin@srv0.ems.ed.ac....  \n",
       "C:\\Users\\Vijay\\Desktop\\OPJ Workshop\\Day3\\emails...  ----- Original Message -----\\n\\nFrom: \"Tim Cha...  \n",
       "C:\\Users\\Vijay\\Desktop\\OPJ Workshop\\Day3\\emails...  \\n\\n> Mr Tim Chapman, freelance gentleman of l...  \n",
       "C:\\Users\\Vijay\\Desktop\\OPJ Workshop\\Day3\\emails...  Smith, Graham - Computing Technician wrote:\\n\\...  \n",
       "C:\\Users\\Vijay\\Desktop\\OPJ Workshop\\Day3\\emails...  Geege wrote a strange story:\\n\\n>I know a guy ...  \n",
       "C:\\Users\\Vijay\\Desktop\\OPJ Workshop\\Day3\\emails...  \\n\\n[Paul Moore]\\n\\n>    but let's walk before...  \n",
       "C:\\Users\\Vijay\\Desktop\\OPJ Workshop\\Day3\\emails...  On Mon, Nov 25, 2002 at 06:54:49PM +0000, Phil...  \n",
       "C:\\Users\\Vijay\\Desktop\\OPJ Workshop\\Day3\\emails...  \\n\\nI don't know how one can expect better and...  \n",
       "C:\\Users\\Vijay\\Desktop\\OPJ Workshop\\Day3\\emails...  No, you need to learn how declarations work in...  \n",
       "C:\\Users\\Vijay\\Desktop\\OPJ Workshop\\Day3\\emails...  \\n\\n    Richie> As I understand it, post-1.8x ...  \n",
       "C:\\Users\\Vijay\\Desktop\\OPJ Workshop\\Day3\\emails...  \\n\\n    Paul> I suspect the best answer is to ...  \n",
       "C:\\Users\\Vijay\\Desktop\\OPJ Workshop\\Day3\\emails...  The Times\\n\\n\\n\\n \\n\\n December 04, 2002 \\n\\n ...  \n",
       "C:\\Users\\Vijay\\Desktop\\OPJ Workshop\\Day3\\emails...  I have to say I was surprised about Jacko dang...  \n",
       "C:\\Users\\Vijay\\Desktop\\OPJ Workshop\\Day3\\emails...  Now then I recently read a novel about exactly...  \n",
       "C:\\Users\\Vijay\\Desktop\\OPJ Workshop\\Day3\\emails...  What the hell is it with these mini remote con...  \n",
       "C:\\Users\\Vijay\\Desktop\\OPJ Workshop\\Day3\\emails...  here, for your enjoyment, is a little somethin...  \n",
       "C:\\Users\\Vijay\\Desktop\\OPJ Workshop\\Day3\\emails...  Sean O'Donnell wrote:\\n\\n> Doesnt answer your ...  \n",
       "C:\\Users\\Vijay\\Desktop\\OPJ Workshop\\Day3\\emails...  Joe McNally writes:\\n\\n\\n\\n> What the hell is ...  \n",
       "C:\\Users\\Vijay\\Desktop\\OPJ Workshop\\Day3\\emails...  http://news.bbc.co.uk/1/hi/world/europe/254182...  \n",
       "C:\\Users\\Vijay\\Desktop\\OPJ Workshop\\Day3\\emails...  Hi all.\\n\\nDoes anyone know how to set up dual...  \n",
       "C:\\Users\\Vijay\\Desktop\\OPJ Workshop\\Day3\\emails...  Carlos Luna wrote:\\n\\n\\n\\n>Hi all.\\n\\n>Does an...  \n",
       "C:\\Users\\Vijay\\Desktop\\OPJ Workshop\\Day3\\emails...  Hi all\\n\\n\\n\\n\\n\\nI have a prob when trying to...  \n",
       "C:\\Users\\Vijay\\Desktop\\OPJ Workshop\\Day3\\emails...  Tim Chapman writes:\\n\\n\\n\\n> http://news.bbc.c...  \n",
       "C:\\Users\\Vijay\\Desktop\\OPJ Workshop\\Day3\\emails...  > I had the same problem when installing Win o...  \n",
       "C:\\Users\\Vijay\\Desktop\\OPJ Workshop\\Day3\\emails...  Man killed 'trying to surf' on Tube train \\n\\n...  \n",
       "C:\\Users\\Vijay\\Desktop\\OPJ Workshop\\Day3\\emails...  Hi Gianni,\\n\\n\\n\\nA very good resource for thi...  \n",
       "C:\\Users\\Vijay\\Desktop\\OPJ Workshop\\Day3\\emails...  Gianni Ponzi wrote:\\n\\n> I have a prob when tr...  \n",
       "C:\\Users\\Vijay\\Desktop\\OPJ Workshop\\Day3\\emails...  Neale Pickett <neale@woozle.org> writes:\\n\\n\\n...  \n",
       "C:\\Users\\Vijay\\Desktop\\OPJ Workshop\\Day3\\emails...  \\n\\nHi,\\n\\n\\n\\nI think you need to give us a l...  "
      ]
     },
     "execution_count": 11,
     "metadata": {},
     "output_type": "execute_result"
    }
   ],
   "source": [
    "data.tail(30)"
   ]
  },
  {
   "cell_type": "markdown",
   "metadata": {
    "deletable": true,
    "editable": true
   },
   "source": [
    "Now we will use a CountVectorizer to split up each message into its list of words, and throw that into a MultinomialNB classifier. Call fit() and we've got a trained spam filter ready to go! It's just that easy."
   ]
  },
  {
   "cell_type": "code",
   "execution_count": 13,
   "metadata": {
    "collapsed": false,
    "deletable": true,
    "editable": true
   },
   "outputs": [
    {
     "data": {
      "text/plain": [
       "array(['spam', 'spam', 'spam', ..., 'ham', 'ham', 'ham'], dtype=object)"
      ]
     },
     "execution_count": 13,
     "metadata": {},
     "output_type": "execute_result"
    }
   ],
   "source": [
    "vectorizer = CountVectorizer()\n",
    "counts = vectorizer.fit_transform(data['message'].values)\n",
    "\n",
    "classifier = MultinomialNB()\n",
    "targets = data['class'].values\n",
    "classifier.fit(counts, targets)\n"
   ]
  },
  {
   "cell_type": "markdown",
   "metadata": {
    "deletable": true,
    "editable": true
   },
   "source": [
    "Let's try it out:"
   ]
  },
  {
   "cell_type": "code",
   "execution_count": 15,
   "metadata": {
    "collapsed": false,
    "deletable": true,
    "editable": true
   },
   "outputs": [
    {
     "data": {
      "text/plain": [
       "array(['ham', 'ham'], dtype='<U4')"
      ]
     },
     "execution_count": 15,
     "metadata": {},
     "output_type": "execute_result"
    }
   ],
   "source": [
    "examples = ['I had the same problem when installing', \"Hi Bob, how about a game of golf tomorrow?\"]\n",
    "example_counts = vectorizer.transform(examples)\n",
    "predictions = classifier.predict(example_counts)\n",
    "predictions"
   ]
  },
  {
   "cell_type": "markdown",
   "metadata": {
    "deletable": true,
    "editable": true
   },
   "source": [
    "## Activity"
   ]
  },
  {
   "cell_type": "markdown",
   "metadata": {
    "deletable": true,
    "editable": true
   },
   "source": [
    "Our data set is small, so our spam classifier isn't actually very good. Try running some different test emails through it and see if you get the results you expect.\n",
    "\n",
    "If you really want to challenge yourself, try applying train/test to this spam classifier - see how well it can predict some subset of the ham and spam emails."
   ]
  },
  {
   "cell_type": "code",
   "execution_count": null,
   "metadata": {
    "collapsed": false,
    "deletable": true,
    "editable": true
   },
   "outputs": [],
   "source": []
  }
 ],
 "metadata": {
  "kernelspec": {
   "display_name": "Python 3",
   "language": "python",
   "name": "python3"
  },
  "language_info": {
   "codemirror_mode": {
    "name": "ipython",
    "version": 3
   },
   "file_extension": ".py",
   "mimetype": "text/x-python",
   "name": "python",
   "nbconvert_exporter": "python",
   "pygments_lexer": "ipython3",
   "version": "3.5.2"
  }
 },
 "nbformat": 4,
 "nbformat_minor": 0
}
