{
 "cells": [
  {
   "cell_type": "markdown",
   "metadata": {},
   "source": [
    "# Pension\n",
    "\n",
    "A certain country takes the following pension plan. A man receives 50 euros a week if he is older than 65 and an extra 20 euros a week if he is older than 70. A woman receives 45 euros a week if she is older than 60 and an extra 25 is she is older than 65.\n",
    "\n",
    "Input\n",
    "\n",
    "The sex (man/woman) and the age of the person, on 2 separate lines.\n",
    "\n",
    "Output\n",
    "\n",
    "The pension (expressed in euros per week) that the person receives. This is always a whole number. If the person does not receive a pension, the text \"not pensionable\" is printed as a result.\n",
    "\n",
    "Example\n",
    "\n",
    "Input:\n",
    "\n",
    "man\n",
    "\n",
    "70\n",
    "\n",
    "Output:\n",
    "\n",
    "50\n",
    "\n",
    "Example\n",
    "\n",
    "Input:\n",
    "\n",
    "woman\n",
    "\n",
    "60\n",
    "\n",
    "Output:\n",
    "\n",
    "not pensionable"
   ]
  },
  {
   "cell_type": "code",
   "execution_count": null,
   "metadata": {},
   "outputs": [],
   "source": [
    "person= input(\"Gender of a person is\")\n",
    "age = int(input())\n",
    "if person == man and age > 65 :\n",
    "    print(\"Pension is 50 Euros\")\n",
    "elif age > 70:\n",
    "    print(\"Pension is 70 Euros\")\n",
    "elif person == Woman and age > 60:\n",
    "    print(\"Pension is 45 Euros\")\n",
    "elif age > 64:\n",
    "    print(\"Pension is 65\")\n",
    "else :\n",
    "        print(\"Not Pensionable\")\n",
    "    \n"
   ]
  },
  {
   "cell_type": "code",
   "execution_count": null,
   "metadata": {},
   "outputs": [],
   "source": []
  }
 ],
 "metadata": {
  "kernelspec": {
   "display_name": "Python 3",
   "language": "python",
   "name": "python3"
  },
  "language_info": {
   "codemirror_mode": {
    "name": "ipython",
    "version": 3
   },
   "file_extension": ".py",
   "mimetype": "text/x-python",
   "name": "python",
   "nbconvert_exporter": "python",
   "pygments_lexer": "ipython3",
   "version": "3.7.3"
  }
 },
 "nbformat": 4,
 "nbformat_minor": 2
}
