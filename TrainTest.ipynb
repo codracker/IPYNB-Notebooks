{
 "cells": [
  {
   "cell_type": "markdown",
   "metadata": {
    "deletable": true,
    "editable": true
   },
   "source": [
    "# Train / Test"
   ]
  },
  {
   "cell_type": "markdown",
   "metadata": {
    "deletable": true,
    "editable": true
   },
   "source": [
    "We'll start by creating some data set that we want to build a model for (in this case a polynomial regression):"
   ]
  },
  {
   "cell_type": "code",
   "execution_count": 98,
   "metadata": {
    "collapsed": false,
    "deletable": true,
    "editable": true
   },
   "outputs": [
    {
     "data": {
      "text/plain": [
       "array([ 32.84463465,  20.91981094,  18.52967058,  13.57523714,\n",
       "        33.8791749 ,  59.10283347,  29.99244598,  36.02910295,\n",
       "        14.63526543,  15.54169321,  11.3329669 ,   6.27204462,\n",
       "         7.53980633,  17.14641519,  11.78692507,  14.34932395,\n",
       "         9.74289598,   5.30137384,  56.17491015,   1.92913056,\n",
       "         9.12278151,  22.14538885,  12.3727088 ,  31.1824224 ,\n",
       "        27.7979898 ,  31.79604246,  30.71479647,  11.13843928,\n",
       "        52.74588745,  -1.03549161,  17.05175114,   6.7008825 ,\n",
       "        32.15673439,  21.76548293,  13.2036894 ,  18.48679142,\n",
       "         1.57802998,  34.97070043,  21.64599772,  15.18627075,\n",
       "         2.76780426,  11.25607115,   3.18025615,  -2.63772373,\n",
       "        33.21465013,  29.69829471,  28.73663603,  12.18174498,\n",
       "        32.65331968,  22.96928246,  17.00981269,  19.13385068,\n",
       "        16.44326886,  -4.13202771,  19.89351845,  14.6562293 ,\n",
       "        35.31724142,  11.90650498,  31.79436483,  32.04430578,\n",
       "         4.78058753,  27.2503043 ,  12.14337617,   3.71568792,\n",
       "        56.00291777,  23.86374476,  24.64909222,  41.60219984,\n",
       "        49.16180638,  19.98073365,  40.88753401,  -2.49199275,\n",
       "        23.27744478,  23.87827277,  20.54721901,   5.17410462,\n",
       "       181.75159582,  13.94561328,   8.71076879,  87.41033918,\n",
       "        32.04625515,  20.21323983,   9.51006243,  15.4020344 ,\n",
       "        28.8446246 ,  42.6613775 ,   1.46524492,   9.45010608,\n",
       "        23.94567692,  20.4920613 ,  23.3076807 ,  20.39974523,\n",
       "         4.98421002,   6.53037373,  10.58375313,  25.77056077,\n",
       "        16.39188098,  23.93035043,  19.405837  ,  61.13668807])"
      ]
     },
     "execution_count": 98,
     "metadata": {},
     "output_type": "execute_result"
    },
    {
     "data": {
      "image/png": "[encoded data removed]",
      "text/plain": [
       "<matplotlib.figure.Figure at 0x1078cda0>"
      ]
     },
     "metadata": {},
     "output_type": "display_data"
    }
   ],
   "source": [
    "%matplotlib inline\n",
    "import numpy as np\n",
    "from pylab import *\n",
    "\n",
    "np.random.seed(2)\n",
    "\n",
    "pageSpeeds = np.random.normal(3.0, 1.0, 100)\n",
    "purchaseAmount = np.random.normal(50.0, 30.0, 100) / pageSpeeds\n",
    "\n",
    "\n",
    "scatter(pageSpeeds, purchaseAmount)\n",
    "pageSpeeds\n",
    "purchaseAmount"
   ]
  },
  {
   "cell_type": "markdown",
   "metadata": {
    "deletable": true,
    "editable": true
   },
   "source": [
    "Now we'll split the data in two - 80% of it will be used for \"training\" our model, and the other 20% for testing it. This way we can avoid overfitting."
   ]
  },
  {
   "cell_type": "code",
   "execution_count": 87,
   "metadata": {
    "collapsed": false,
    "deletable": true,
    "editable": true
   },
   "outputs": [],
   "source": [
    "trainX = pageSpeeds[:80]\n",
    "testX = pageSpeeds[80:]\n",
    "\n",
    "trainY = purchaseAmount[:80]\n",
    "testY = purchaseAmount[80:]\n"
   ]
  },
  {
   "cell_type": "markdown",
   "metadata": {
    "deletable": true,
    "editable": true
   },
   "source": [
    "Here's our training dataset:"
   ]
  },
  {
   "cell_type": "code",
   "execution_count": 88,
   "metadata": {
    "collapsed": false,
    "deletable": true,
    "editable": true
   },
   "outputs": [
    {
     "data": {
      "text/plain": [
       "<matplotlib.collections.PathCollection at 0x1063d588>"
      ]
     },
     "execution_count": 88,
     "metadata": {},
     "output_type": "execute_result"
    },
    {
     "data": {
      "image/png": "[encoded data removed]",
      "text/plain": [
       "<matplotlib.figure.Figure at 0xf61c320>"
      ]
     },
     "metadata": {},
     "output_type": "display_data"
    }
   ],
   "source": [
    "scatter(trainX, trainY)"
   ]
  },
  {
   "cell_type": "markdown",
   "metadata": {
    "deletable": true,
    "editable": true
   },
   "source": [
    "And our test dataset:"
   ]
  },
  {
   "cell_type": "code",
   "execution_count": 89,
   "metadata": {
    "collapsed": false,
    "deletable": true,
    "editable": true
   },
   "outputs": [
    {
     "data": {
      "text/plain": [
       "<matplotlib.collections.PathCollection at 0x106a4be0>"
      ]
     },
     "execution_count": 89,
     "metadata": {},
     "output_type": "execute_result"
    },
    {
     "data": {
      "image/png": "[encoded data removed]",
      "text/plain": [
       "<matplotlib.figure.Figure at 0x1065f2b0>"
      ]
     },
     "metadata": {},
     "output_type": "display_data"
    }
   ],
   "source": [
    "scatter(testX, testY)"
   ]
  },
  {
   "cell_type": "markdown",
   "metadata": {
    "deletable": true,
    "editable": true
   },
   "source": [
    "Now we'll try to fit an 8th-degree polynomial to this data (which is almost certainly overfitting, given what we know about how it was generated!)"
   ]
  },
  {
   "cell_type": "code",
   "execution_count": 90,
   "metadata": {
    "collapsed": false,
    "deletable": true,
    "editable": true
   },
   "outputs": [
    {
     "name": "stdout",
     "output_type": "stream",
     "text": [
      "       6         5       4         3        2\n",
      "1.088 x - 20.28 x + 149 x - 548.6 x + 1066 x - 1051 x + 456.7\n"
     ]
    }
   ],
   "source": [
    "x = np.array(trainX)\n",
    "y = np.array(trainY)\n",
    "\n",
    "p4 = np.poly1d(np.polyfit(x, y, 6))\n",
    "p4\n",
    "print(p4)"
   ]
  },
  {
   "cell_type": "markdown",
   "metadata": {
    "deletable": true,
    "editable": true
   },
   "source": [
    "Let's plot our polynomial against the training data:"
   ]
  },
  {
   "cell_type": "code",
   "execution_count": 91,
   "metadata": {
    "collapsed": false,
    "deletable": true,
    "editable": true
   },
   "outputs": [
    {
     "data": {
      "image/png": "[encoded data removed]",
      "text/plain": [
       "<matplotlib.figure.Figure at 0x10679208>"
      ]
     },
     "metadata": {},
     "output_type": "display_data"
    }
   ],
   "source": [
    "import matplotlib.pyplot as plt\n",
    "\n",
    "xp = np.linspace(0, 7, 100)\n",
    "axes = plt.axes()\n",
    "axes.set_xlim([0,7])\n",
    "axes.set_ylim([0, 200])\n",
    "plt.scatter(x, y)\n",
    "plt.plot(xp, p4(xp), c='r')\n",
    "plt.show()\n"
   ]
  },
  {
   "cell_type": "markdown",
   "metadata": {
    "deletable": true,
    "editable": true
   },
   "source": [
    "And against our test data:"
   ]
  },
  {
   "cell_type": "code",
   "execution_count": 92,
   "metadata": {
    "collapsed": false,
    "deletable": true,
    "editable": true
   },
   "outputs": [
    {
     "data": {
      "image/png": "[encoded data removed]",
      "text/plain": [
       "<matplotlib.figure.Figure at 0x1072d358>"
      ]
     },
     "metadata": {},
     "output_type": "display_data"
    }
   ],
   "source": [
    "testx = np.array(testX)\n",
    "testy = np.array(testY)\n",
    "\n",
    "axes = plt.axes()\n",
    "axes.set_xlim([0,5])\n",
    "axes.set_ylim([0, 60])\n",
    "plt.scatter(testx, testy)\n",
    "plt.plot(xp, p4(xp), c='r')\n",
    "plt.show()"
   ]
  },
  {
   "cell_type": "markdown",
   "metadata": {
    "deletable": true,
    "editable": true
   },
   "source": [
    "Doesn't look that bad when you just eyeball it, but the r-squared score on the test data is kind of horrible! This tells us that our model isn't all that great..."
   ]
  },
  {
   "cell_type": "code",
   "execution_count": 95,
   "metadata": {
    "collapsed": false,
    "deletable": true,
    "editable": true
   },
   "outputs": [
    {
     "name": "stdout",
     "output_type": "stream",
     "text": [
      "0.5110172411306761\n"
     ]
    }
   ],
   "source": [
    "from sklearn.metrics import r2_score #Accuracy of your model \n",
    "\n",
    "r2 = r2_score(testy, p4(testx))\n",
    "\n",
    "print(r2)\n"
   ]
  },
  {
   "cell_type": "markdown",
   "metadata": {
    "deletable": true,
    "editable": true
   },
   "source": [
    "...even though it fits the training data better:"
   ]
  },
  {
   "cell_type": "code",
   "execution_count": 96,
   "metadata": {
    "collapsed": false,
    "deletable": true,
    "editable": true
   },
   "outputs": [
    {
     "name": "stdout",
     "output_type": "stream",
     "text": [
      "0.7962796109290677\n"
     ]
    }
   ],
   "source": [
    "from sklearn.metrics import r2_score #Accuracy of your model\n",
    "\n",
    "r2 = r2_score(np.array(trainY), p4(np.array(trainX)))\n",
    "\n",
    "print(r2)"
   ]
  },
  {
   "cell_type": "markdown",
   "metadata": {
    "deletable": true,
    "editable": true
   },
   "source": [
    "If you're working with a Pandas DataFrame (using tabular, labeled data,) scikit-learn has built-in train_test_split functions to make this easy to do.\n",
    "\n",
    "Later we'll talk about even more robust forms of train/test, like K-fold cross-validation - where we try out multiple different splits of the data, to make sure we didn't just get lucky with where we split it."
   ]
  },
  {
   "cell_type": "markdown",
   "metadata": {
    "deletable": true,
    "editable": true
   },
   "source": [
    "## Activity"
   ]
  },
  {
   "cell_type": "markdown",
   "metadata": {
    "deletable": true,
    "editable": true
   },
   "source": [
    "Try measuring the error on the test data using different degree polynomial fits. What degree works best?"
   ]
  },
  {
   "cell_type": "code",
   "execution_count": null,
   "metadata": {
    "collapsed": false,
    "deletable": true,
    "editable": true
   },
   "outputs": [],
   "source": []
  }
 ],
 "metadata": {
  "kernelspec": {
   "display_name": "Python 3",
   "language": "python",
   "name": "python3"
  },
  "language_info": {
   "codemirror_mode": {
    "name": "ipython",
    "version": 3
   },
   "file_extension": ".py",
   "mimetype": "text/x-python",
   "name": "python",
   "nbconvert_exporter": "python",
   "pygments_lexer": "ipython3",
   "version": "3.5.2"
  }
 },
 "nbformat": 4,
 "nbformat_minor": 0
}
