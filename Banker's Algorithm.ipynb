{
 "cells": [
  {
   "cell_type": "code",
   "execution_count": null,
   "metadata": {},
   "outputs": [],
   "source": [
    "def main():\n",
    "    process = int(input(\"number of processes : \"))\n",
    "    resource = int(input(\"number of resources : \"))\n",
    "    max_resources = [int(i) for i in input(\"maximum resources : \").split()]\n",
    " \n",
    "    print(\"allocated resources for each process\")\n",
    "    currently_allocated = [[int(i) for i in input(\"process {j + 1} : \").split()] for j in range(process)]\n",
    " \n",
    "    print(\" maximum resources for each process\")\n",
    "    max_need = [[int(i) for i in input(\"process {j + 1} : \").split()] for j in range(process)]\n",
    " \n",
    "    allocated = [0] * resource\n",
    "    for i in range(process):\n",
    "        for j in range(resource):\n",
    "            allocated[j] += currently_allocated[i][j]\n",
    "    print(\"total allocated resources : {allocated}\")\n",
    " \n",
    "    available = [max_resources[i] - allocated[i] for i in range(resource)]\n",
    "    print(\"total available resources : {available}\\n\")\n",
    " \n",
    "    running = [True] * process\n",
    "    count = process\n",
    "    while count != 0:\n",
    "        safe = False\n",
    "        for i in range(process):\n",
    "            if running[i]:\n",
    "                executing = True\n",
    "                for j in range(resource):\n",
    "                    if max_need[i][j] - currently_allocated[i][j] > available[j]:\n",
    "                        executing = False\n",
    "                        break\n",
    "                if executing:\n",
    "                    print(\"process {i + 1} is executing\")\n",
    "                    running[i] = False\n",
    "                    count -= 1\n",
    "                    safe = True\n",
    "                    for j in range(resource):\n",
    "                        available[j] += currently_allocated[i][j]\n",
    "                    break\n",
    "        if not safe:\n",
    "            print(\"the processes are in an unsafe state.\")\n",
    "            break\n",
    " \n",
    "        print(\"the process is in a safe state.\\navailable resources : {available}\")\n",
    " \n",
    " \n",
    "if __name__ == '__main__':\n",
    "    main()"
   ]
  },
  {
   "cell_type": "code",
   "execution_count": null,
   "metadata": {},
   "outputs": [],
   "source": []
  }
 ],
 "metadata": {
  "kernelspec": {
   "display_name": "Python 3",
   "language": "python",
   "name": "python3"
  },
  "language_info": {
   "codemirror_mode": {
    "name": "ipython",
    "version": 3
   },
   "file_extension": ".py",
   "mimetype": "text/x-python",
   "name": "python",
   "nbconvert_exporter": "python",
   "pygments_lexer": "ipython3",
   "version": "3.7.3"
  }
 },
 "nbformat": 4,
 "nbformat_minor": 2
}
